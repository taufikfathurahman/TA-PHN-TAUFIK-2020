{
 "cells": [
  {
   "cell_type": "code",
   "execution_count": 1,
   "metadata": {},
   "outputs": [
    {
     "name": "stderr",
     "output_type": "stream",
     "text": [
      "C:\\Users\\taufi\\Anaconda3\\envs\\tf_14\\lib\\site-packages\\tensorflow\\python\\framework\\dtypes.py:516: FutureWarning: Passing (type, 1) or '1type' as a synonym of type is deprecated; in a future version of numpy, it will be understood as (type, (1,)) / '(1,)type'.\n",
      "  _np_qint8 = np.dtype([(\"qint8\", np.int8, 1)])\n",
      "C:\\Users\\taufi\\Anaconda3\\envs\\tf_14\\lib\\site-packages\\tensorflow\\python\\framework\\dtypes.py:517: FutureWarning: Passing (type, 1) or '1type' as a synonym of type is deprecated; in a future version of numpy, it will be understood as (type, (1,)) / '(1,)type'.\n",
      "  _np_quint8 = np.dtype([(\"quint8\", np.uint8, 1)])\n",
      "C:\\Users\\taufi\\Anaconda3\\envs\\tf_14\\lib\\site-packages\\tensorflow\\python\\framework\\dtypes.py:518: FutureWarning: Passing (type, 1) or '1type' as a synonym of type is deprecated; in a future version of numpy, it will be understood as (type, (1,)) / '(1,)type'.\n",
      "  _np_qint16 = np.dtype([(\"qint16\", np.int16, 1)])\n",
      "C:\\Users\\taufi\\Anaconda3\\envs\\tf_14\\lib\\site-packages\\tensorflow\\python\\framework\\dtypes.py:519: FutureWarning: Passing (type, 1) or '1type' as a synonym of type is deprecated; in a future version of numpy, it will be understood as (type, (1,)) / '(1,)type'.\n",
      "  _np_quint16 = np.dtype([(\"quint16\", np.uint16, 1)])\n",
      "C:\\Users\\taufi\\Anaconda3\\envs\\tf_14\\lib\\site-packages\\tensorflow\\python\\framework\\dtypes.py:520: FutureWarning: Passing (type, 1) or '1type' as a synonym of type is deprecated; in a future version of numpy, it will be understood as (type, (1,)) / '(1,)type'.\n",
      "  _np_qint32 = np.dtype([(\"qint32\", np.int32, 1)])\n",
      "C:\\Users\\taufi\\Anaconda3\\envs\\tf_14\\lib\\site-packages\\tensorflow\\python\\framework\\dtypes.py:525: FutureWarning: Passing (type, 1) or '1type' as a synonym of type is deprecated; in a future version of numpy, it will be understood as (type, (1,)) / '(1,)type'.\n",
      "  np_resource = np.dtype([(\"resource\", np.ubyte, 1)])\n",
      "C:\\Users\\taufi\\Anaconda3\\envs\\tf_14\\lib\\site-packages\\tensorboard\\compat\\tensorflow_stub\\dtypes.py:541: FutureWarning: Passing (type, 1) or '1type' as a synonym of type is deprecated; in a future version of numpy, it will be understood as (type, (1,)) / '(1,)type'.\n",
      "  _np_qint8 = np.dtype([(\"qint8\", np.int8, 1)])\n",
      "C:\\Users\\taufi\\Anaconda3\\envs\\tf_14\\lib\\site-packages\\tensorboard\\compat\\tensorflow_stub\\dtypes.py:542: FutureWarning: Passing (type, 1) or '1type' as a synonym of type is deprecated; in a future version of numpy, it will be understood as (type, (1,)) / '(1,)type'.\n",
      "  _np_quint8 = np.dtype([(\"quint8\", np.uint8, 1)])\n",
      "C:\\Users\\taufi\\Anaconda3\\envs\\tf_14\\lib\\site-packages\\tensorboard\\compat\\tensorflow_stub\\dtypes.py:543: FutureWarning: Passing (type, 1) or '1type' as a synonym of type is deprecated; in a future version of numpy, it will be understood as (type, (1,)) / '(1,)type'.\n",
      "  _np_qint16 = np.dtype([(\"qint16\", np.int16, 1)])\n",
      "C:\\Users\\taufi\\Anaconda3\\envs\\tf_14\\lib\\site-packages\\tensorboard\\compat\\tensorflow_stub\\dtypes.py:544: FutureWarning: Passing (type, 1) or '1type' as a synonym of type is deprecated; in a future version of numpy, it will be understood as (type, (1,)) / '(1,)type'.\n",
      "  _np_quint16 = np.dtype([(\"quint16\", np.uint16, 1)])\n",
      "C:\\Users\\taufi\\Anaconda3\\envs\\tf_14\\lib\\site-packages\\tensorboard\\compat\\tensorflow_stub\\dtypes.py:545: FutureWarning: Passing (type, 1) or '1type' as a synonym of type is deprecated; in a future version of numpy, it will be understood as (type, (1,)) / '(1,)type'.\n",
      "  _np_qint32 = np.dtype([(\"qint32\", np.int32, 1)])\n",
      "C:\\Users\\taufi\\Anaconda3\\envs\\tf_14\\lib\\site-packages\\tensorboard\\compat\\tensorflow_stub\\dtypes.py:550: FutureWarning: Passing (type, 1) or '1type' as a synonym of type is deprecated; in a future version of numpy, it will be understood as (type, (1,)) / '(1,)type'.\n",
      "  np_resource = np.dtype([(\"resource\", np.ubyte, 1)])\n"
     ]
    }
   ],
   "source": [
    "from tensorflow.keras.models import load_model\n",
    "from tensorflow.keras.preprocessing.image import ImageDataGenerator\n",
    "from tensorflow.keras.applications import vgg16, resnet50, mobilenet, densenet, xception\n",
    "\n",
    "import os\n",
    "import numpy as np\n",
    "import json as js\n",
    "\n",
    "import Augmentor as aug"
   ]
  },
  {
   "cell_type": "code",
   "execution_count": 2,
   "metadata": {},
   "outputs": [],
   "source": [
    "N = 25\n",
    "IMAGE_SIZE = 300\n",
    "BATCH_SIZE = 32\n",
    "TEST_PATH = 'japanese_fagaceae_testset_augmented'\n",
    "OUT_PATH = os.path.join('..', '..', 'bestN_dataset', str(N))\n",
    "WEIGHT_PATH = os.path.join('result', '300', 'VGG16', '[VGG16_300] weight.h5')\n",
    "sp_name = os.listdir(TEST_PATH)"
   ]
  },
  {
   "cell_type": "code",
   "execution_count": 3,
   "metadata": {
    "scrolled": true
   },
   "outputs": [
    {
     "name": "stderr",
     "output_type": "stream",
     "text": [
      "\r",
      "Executing Pipeline:   0%|                                                                  | 0/6 [00:00<?, ? Samples/s]"
     ]
    },
    {
     "name": "stdout",
     "output_type": "stream",
     "text": [
      "Initialised with 6 image(s) found.\n",
      "Output directory set to japanese_fagaceae_testset_augmented\\Abemaki\\..\\..\\bestN_dataset\\25\\Abemaki."
     ]
    },
    {
     "name": "stderr",
     "output_type": "stream",
     "text": [
      "Processing <PIL.Image.Image image mode=RGB size=300x300 at 0x1888EF9E348>: 100%|███| 6/6 [00:01<00:00,  5.06 Samples/s]\n",
      "Processing <PIL.Image.Image image mode=RGB size=300x300 at 0x1888EFAB608>: 100%|███| 6/6 [00:00<00:00, 37.14 Samples/s]\n",
      "Processing <PIL.Image.Image image mode=RGB size=300x300 at 0x1889E0B4408>: 100%|███| 6/6 [00:00<00:00, 35.81 Samples/s]\n",
      "Processing <PIL.Image.Image image mode=RGB size=300x300 at 0x1889E0BEBC8>: 100%|███| 6/6 [00:00<00:00, 31.24 Samples/s]\n",
      "Processing <PIL.Image.Image image mode=RGB size=300x300 at 0x1889E0C2808>: 100%|███| 6/6 [00:00<00:00, 33.70 Samples/s]\n",
      "Processing <PIL.Image.Image image mode=RGB size=300x300 at 0x1889E0C4688>: 100%|███| 6/6 [00:00<00:00, 36.02 Samples/s]\n",
      "Processing <PIL.Image.Image image mode=RGB size=300x300 at 0x1889E0C1448>: 100%|███| 6/6 [00:00<00:00, 28.57 Samples/s]\n",
      "Processing <PIL.Image.Image image mode=RGB size=300x300 at 0x1889E0C3CC8>: 100%|███| 6/6 [00:00<00:00, 31.03 Samples/s]\n",
      "Processing <PIL.Image.Image image mode=RGB size=300x300 at 0x1889E0CCB08>: 100%|███| 6/6 [00:00<00:00, 36.03 Samples/s]\n",
      "Processing <PIL.Image.Image image mode=RGB size=300x300 at 0x1889E0C54C8>: 100%|███| 6/6 [00:00<00:00, 39.16 Samples/s]\n",
      "Processing <PIL.Image.Image image mode=RGB size=300x300 at 0x1889E0D1F88>: 100%|███| 6/6 [00:00<00:00, 34.77 Samples/s]\n",
      "Processing <PIL.Image.Image image mode=RGB size=300x300 at 0x1889E0D3708>: 100%|███| 6/6 [00:00<00:00, 30.94 Samples/s]\n",
      "Processing <PIL.Image.Image image mode=RGB size=300x300 at 0x1889E0CF8C8>: 100%|███| 6/6 [00:00<00:00, 25.10 Samples/s]\n",
      "Processing <PIL.Image.Image image mode=RGB size=300x300 at 0x1889E0DA608>: 100%|███| 6/6 [00:00<00:00, 32.87 Samples/s]\n",
      "Processing <PIL.Image.Image image mode=RGB size=300x300 at 0x1889E0DAA48>: 100%|███| 6/6 [00:00<00:00, 31.64 Samples/s]\n",
      "Processing <PIL.Image.Image image mode=RGB size=300x300 at 0x1889E0D9688>: 100%|███| 6/6 [00:00<00:00, 39.32 Samples/s]\n",
      "Processing <PIL.Image.Image image mode=RGB size=300x300 at 0x1889E0CB408>: 100%|███| 6/6 [00:00<00:00, 35.39 Samples/s]\n",
      "Processing <PIL.Image.Image image mode=RGB size=300x300 at 0x1889E0D9C08>: 100%|███| 6/6 [00:00<00:00, 38.32 Samples/s]\n",
      "Processing <PIL.Image.Image image mode=RGB size=300x300 at 0x1889E0D37C8>: 100%|███| 6/6 [00:00<00:00, 30.99 Samples/s]\n",
      "Processing <PIL.Image.Image image mode=RGB size=300x300 at 0x1889E0D9B88>: 100%|███| 6/6 [00:00<00:00, 39.97 Samples/s]\n",
      "Processing <PIL.Image.Image image mode=RGB size=300x300 at 0x1889E0D3148>: 100%|███| 6/6 [00:00<00:00, 35.39 Samples/s]\n",
      "Processing <PIL.Image.Image image mode=RGB size=300x300 at 0x1889E0DAE48>: 100%|███| 6/6 [00:00<00:00, 38.64 Samples/s]\n",
      "Processing <PIL.Image.Image image mode=RGB size=300x300 at 0x1889E0DD788>: 100%|███| 6/6 [00:00<00:00, 13.81 Samples/s]\n",
      "Processing <PIL.Image.Image image mode=RGB size=300x300 at 0x1889E0DD808>: 100%|███| 6/6 [00:00<00:00, 27.49 Samples/s]\n",
      "Processing <PIL.Image.Image image mode=RGB size=300x300 at 0x1889E0D9E08>: 100%|███| 6/6 [00:00<00:00, 35.81 Samples/s]\n",
      "Executing Pipeline:   0%|                                                                  | 0/6 [00:00<?, ? Samples/s]"
     ]
    },
    {
     "name": "stdout",
     "output_type": "stream",
     "text": [
      "Initialised with 6 image(s) found.\n",
      "Output directory set to japanese_fagaceae_testset_augmented\\Akagashi\\..\\..\\bestN_dataset\\25\\Akagashi."
     ]
    },
    {
     "name": "stderr",
     "output_type": "stream",
     "text": [
      "Processing <PIL.Image.Image image mode=RGB size=300x300 at 0x1889E0DD448>: 100%|███| 6/6 [00:04<00:00,  1.41 Samples/s]\n",
      "Processing <PIL.Image.Image image mode=RGB size=300x300 at 0x1889E0D9D48>: 100%|███| 6/6 [00:00<00:00, 30.97 Samples/s]\n",
      "Processing <PIL.Image.Image image mode=RGB size=300x300 at 0x1889E0D9388>: 100%|███| 6/6 [00:00<00:00, 38.32 Samples/s]\n",
      "Processing <PIL.Image.Image image mode=RGB size=300x300 at 0x1889E0DDA08>: 100%|███| 6/6 [00:00<00:00, 37.60 Samples/s]\n",
      "Processing <PIL.Image.Image image mode=RGB size=300x300 at 0x1889E0D9A48>: 100%|███| 6/6 [00:00<00:00, 41.78 Samples/s]\n",
      "Processing <PIL.Image.Image image mode=RGB size=300x300 at 0x1889E0DD9C8>: 100%|███| 6/6 [00:00<00:00, 36.68 Samples/s]\n",
      "Processing <PIL.Image.Image image mode=RGB size=300x300 at 0x1889E0DD6C8>: 100%|███| 6/6 [00:00<00:00, 39.71 Samples/s]\n",
      "Processing <PIL.Image.Image image mode=RGB size=300x300 at 0x1889E0DD548>: 100%|███| 6/6 [00:00<00:00, 13.50 Samples/s]\n",
      "Processing <PIL.Image.Image image mode=RGB size=300x300 at 0x1889E0E0808>: 100%|███| 6/6 [00:00<00:00, 32.34 Samples/s]\n",
      "Processing <PIL.Image.Image image mode=RGB size=300x300 at 0x1889E0DDBC8>: 100%|███| 6/6 [00:00<00:00, 39.97 Samples/s]\n",
      "Processing <PIL.Image.Image image mode=RGB size=300x300 at 0x1889E0E0248>: 100%|███| 6/6 [00:00<00:00, 44.24 Samples/s]\n",
      "Processing <PIL.Image.Image image mode=RGB size=300x300 at 0x1889E0DD388>: 100%|███| 6/6 [00:00<00:00, 40.93 Samples/s]\n",
      "Processing <PIL.Image.Image image mode=RGB size=300x300 at 0x1889E0DDB88>: 100%|███| 6/6 [00:00<00:00, 36.24 Samples/s]\n",
      "Processing <PIL.Image.Image image mode=RGB size=300x300 at 0x1889E0DDEC8>: 100%|███| 6/6 [00:00<00:00, 11.46 Samples/s]\n",
      "Processing <PIL.Image.Image image mode=RGB size=300x300 at 0x1889E0ED188>: 100%|███| 6/6 [00:00<00:00, 27.10 Samples/s]\n",
      "Processing <PIL.Image.Image image mode=RGB size=300x300 at 0x1889E0EDCC8>: 100%|███| 6/6 [00:00<00:00, 34.58 Samples/s]\n",
      "Processing <PIL.Image.Image image mode=RGB size=300x300 at 0x1889E0DDDC8>: 100%|███| 6/6 [00:00<00:00, 35.81 Samples/s]\n",
      "Processing <PIL.Image.Image image mode=RGB size=300x300 at 0x1889E0DD548>: 100%|███| 6/6 [00:00<00:00, 39.01 Samples/s]\n",
      "Processing <PIL.Image.Image image mode=RGB size=300x300 at 0x1889E0ED348>: 100%|███| 6/6 [00:00<00:00,  7.63 Samples/s]\n",
      "Processing <PIL.Image.Image image mode=RGB size=300x300 at 0x1889E0ED988>: 100%|███| 6/6 [00:00<00:00, 35.39 Samples/s]\n",
      "Processing <PIL.Image.Image image mode=RGB size=300x300 at 0x1889E0E0108>: 100%|███| 6/6 [00:00<00:00, 35.39 Samples/s]\n",
      "Processing <PIL.Image.Image image mode=RGB size=300x300 at 0x1889E0ED888>: 100%|███| 6/6 [00:00<00:00, 34.15 Samples/s]\n",
      "Processing <PIL.Image.Image image mode=RGB size=300x300 at 0x1889E0EDB88>: 100%|███| 6/6 [00:00<00:00, 32.78 Samples/s]\n",
      "Processing <PIL.Image.Image image mode=RGB size=300x300 at 0x1889E0F79C8>: 100%|███| 6/6 [00:00<00:00, 14.54 Samples/s]\n",
      "Processing <PIL.Image.Image image mode=RGB size=300x300 at 0x1889E0ED3C8>: 100%|███| 6/6 [00:00<00:00, 23.73 Samples/s]\n",
      "Executing Pipeline:   0%|                                                                  | 0/6 [00:00<?, ? Samples/s]"
     ]
    },
    {
     "name": "stdout",
     "output_type": "stream",
     "text": [
      "Initialised with 6 image(s) found.\n",
      "Output directory set to japanese_fagaceae_testset_augmented\\Arakashi\\..\\..\\bestN_dataset\\25\\Arakashi."
     ]
    },
    {
     "name": "stderr",
     "output_type": "stream",
     "text": [
      "Processing <PIL.Image.Image image mode=RGB size=300x300 at 0x1889E0D9CC8>: 100%|███| 6/6 [00:02<00:00,  2.55 Samples/s]\n",
      "Processing <PIL.Image.Image image mode=RGB size=300x300 at 0x1889E0E0508>: 100%|███| 6/6 [00:00<00:00, 40.24 Samples/s]\n",
      "Processing <PIL.Image.Image image mode=RGB size=300x300 at 0x1889E0E0408>: 100%|███| 6/6 [00:00<00:00, 40.78 Samples/s]\n",
      "Processing <PIL.Image.Image image mode=RGB size=300x300 at 0x1889E0F74C8>: 100%|███| 6/6 [00:00<00:00, 40.09 Samples/s]\n",
      "Processing <PIL.Image.Image image mode=RGB size=300x300 at 0x1889E0F7B08>: 100%|███| 6/6 [00:00<00:00, 38.32 Samples/s]\n",
      "Processing <PIL.Image.Image image mode=RGB size=300x300 at 0x1889E0F7208>: 100%|███| 6/6 [00:00<00:00, 40.19 Samples/s]\n",
      "Processing <PIL.Image.Image image mode=RGB size=300x300 at 0x1889E0E0788>: 100%|███| 6/6 [00:00<00:00, 37.02 Samples/s]\n",
      "Processing <PIL.Image.Image image mode=RGB size=300x300 at 0x1889E0F7308>: 100%|███| 6/6 [00:00<00:00, 14.18 Samples/s]\n",
      "Processing <PIL.Image.Image image mode=RGB size=300x300 at 0x1889E0E0D48>: 100%|███| 6/6 [00:00<00:00, 27.33 Samples/s]\n",
      "Processing <PIL.Image.Image image mode=RGB size=300x300 at 0x1889E0F7EC8>: 100%|███| 6/6 [00:00<00:00, 39.58 Samples/s]\n",
      "Processing <PIL.Image.Image image mode=RGB size=300x300 at 0x1889E0F7BC8>: 100%|███| 6/6 [00:00<00:00, 38.08 Samples/s]\n",
      "Processing <PIL.Image.Image image mode=RGB size=300x300 at 0x1889E0F7F08>: 100%|███| 6/6 [00:00<00:00, 38.08 Samples/s]\n",
      "Processing <PIL.Image.Image image mode=RGB size=300x300 at 0x1889E0F7FC8>: 100%|███| 6/6 [00:00<00:00, 35.39 Samples/s]\n",
      "Processing <PIL.Image.Image image mode=RGB size=300x300 at 0x1889E0F7608>: 100%|███| 6/6 [00:00<00:00, 19.47 Samples/s]\n",
      "Processing <PIL.Image.Image image mode=RGB size=300x300 at 0x1889E0F3888>: 100%|███| 6/6 [00:00<00:00, 12.65 Samples/s]\n",
      "Processing <PIL.Image.Image image mode=RGB size=300x300 at 0x1889E0F35C8>: 100%|███| 6/6 [00:00<00:00, 26.75 Samples/s]\n",
      "Processing <PIL.Image.Image image mode=RGB size=300x300 at 0x1889E101B08>: 100%|███| 6/6 [00:00<00:00, 21.53 Samples/s]\n",
      "Processing <PIL.Image.Image image mode=RGB size=300x300 at 0x1889E101188>: 100%|███| 6/6 [00:00<00:00, 30.46 Samples/s]\n",
      "Processing <PIL.Image.Image image mode=RGB size=300x300 at 0x1889E0F36C8>: 100%|███| 6/6 [00:00<00:00, 11.56 Samples/s]\n",
      "Processing <PIL.Image.Image image mode=RGB size=300x300 at 0x1889E0F3A08>: 100%|███| 6/6 [00:00<00:00, 35.47 Samples/s]\n",
      "Processing <PIL.Image.Image image mode=RGB size=300x300 at 0x1889E10E348>: 100%|███| 6/6 [00:00<00:00, 36.99 Samples/s]\n",
      "Processing <PIL.Image.Image image mode=RGB size=300x300 at 0x1889E0F7148>: 100%|███| 6/6 [00:00<00:00, 39.58 Samples/s]\n",
      "Processing <PIL.Image.Image image mode=RGB size=300x300 at 0x1889E101F88>: 100%|███| 6/6 [00:00<00:00, 33.05 Samples/s]\n",
      "Processing <PIL.Image.Image image mode=RGB size=300x300 at 0x1889E101F48>: 100%|███| 6/6 [00:00<00:00, 39.84 Samples/s]\n",
      "Processing <PIL.Image.Image image mode=RGB size=300x300 at 0x1889E106D08>: 100%|███| 6/6 [00:00<00:00, 37.37 Samples/s]\n",
      "Executing Pipeline:   0%|                                                                  | 0/6 [00:00<?, ? Samples/s]"
     ]
    },
    {
     "name": "stdout",
     "output_type": "stream",
     "text": [
      "Initialised with 6 image(s) found.\n",
      "Output directory set to japanese_fagaceae_testset_augmented\\Buna\\..\\..\\bestN_dataset\\25\\Buna."
     ]
    },
    {
     "name": "stderr",
     "output_type": "stream",
     "text": [
      "Processing <PIL.Image.Image image mode=RGB size=300x300 at 0x1889E0E0EC8>: 100%|███| 6/6 [00:00<00:00, 24.35 Samples/s]\n",
      "Processing <PIL.Image.Image image mode=RGB size=300x300 at 0x1889E0ED248>: 100%|███| 6/6 [00:00<00:00, 41.92 Samples/s]\n",
      "Processing <PIL.Image.Image image mode=RGB size=300x300 at 0x1889E0EDE88>: 100%|███| 6/6 [00:00<00:00, 43.91 Samples/s]\n",
      "Processing <PIL.Image.Image image mode=RGB size=300x300 at 0x1889E1064C8>: 100%|███| 6/6 [00:00<00:00, 43.91 Samples/s]\n",
      "Processing <PIL.Image.Image image mode=RGB size=300x300 at 0x1889E101F48>: 100%|███| 6/6 [00:00<00:00, 40.56 Samples/s]\n",
      "Processing <PIL.Image.Image image mode=RGB size=300x300 at 0x1889E106AC8>: 100%|███| 6/6 [00:00<00:00, 41.06 Samples/s]\n",
      "Processing <PIL.Image.Image image mode=RGB size=300x300 at 0x1889E101A08>: 100%|███| 6/6 [00:00<00:00, 40.11 Samples/s]\n",
      "Processing <PIL.Image.Image image mode=RGB size=300x300 at 0x1889E1014C8>: 100%|███| 6/6 [00:00<00:00, 39.58 Samples/s]\n",
      "Processing <PIL.Image.Image image mode=RGB size=300x300 at 0x1889E101908>: 100%|███| 6/6 [00:00<00:00, 40.93 Samples/s]\n",
      "Processing <PIL.Image.Image image mode=RGB size=300x300 at 0x1889E113708>: 100%|███| 6/6 [00:00<00:00, 41.49 Samples/s]\n",
      "Processing <PIL.Image.Image image mode=RGB size=300x300 at 0x1889E0F3C08>: 100%|███| 6/6 [00:00<00:00, 40.93 Samples/s]\n",
      "Processing <PIL.Image.Image image mode=RGB size=300x300 at 0x1889E106888>: 100%|███| 6/6 [00:00<00:00, 39.84 Samples/s]\n",
      "Processing <PIL.Image.Image image mode=RGB size=300x300 at 0x1889E101BC8>: 100%|███| 6/6 [00:00<00:00, 36.68 Samples/s]\n",
      "Processing <PIL.Image.Image image mode=RGB size=300x300 at 0x1889E113A48>: 100%|███| 6/6 [00:00<00:00, 39.07 Samples/s]\n",
      "Processing <PIL.Image.Image image mode=RGB size=300x300 at 0x1889E0F3B08>: 100%|███| 6/6 [00:00<00:00, 39.58 Samples/s]\n",
      "Processing <PIL.Image.Image image mode=RGB size=300x300 at 0x1889E106308>: 100%|███| 6/6 [00:00<00:00, 42.51 Samples/s]\n",
      "Processing <PIL.Image.Image image mode=RGB size=300x300 at 0x1889E106E48>: 100%|███| 6/6 [00:00<00:00, 41.49 Samples/s]\n",
      "Processing <PIL.Image.Image image mode=RGB size=300x300 at 0x1889E113708>: 100%|███| 6/6 [00:00<00:00, 38.81 Samples/s]\n",
      "Processing <PIL.Image.Image image mode=RGB size=300x300 at 0x1889E1139C8>: 100%|███| 6/6 [00:00<00:00, 39.58 Samples/s]\n",
      "Processing <PIL.Image.Image image mode=RGB size=300x300 at 0x1889E118288>: 100%|███| 6/6 [00:00<00:00, 38.81 Samples/s]\n",
      "Processing <PIL.Image.Image image mode=RGB size=300x300 at 0x1889E113FC8>: 100%|███| 6/6 [00:00<00:00, 39.32 Samples/s]\n",
      "Processing <PIL.Image.Image image mode=RGB size=300x300 at 0x1889E1180C8>: 100%|███| 6/6 [00:00<00:00, 39.58 Samples/s]\n",
      "Processing <PIL.Image.Image image mode=RGB size=300x300 at 0x1889E1137C8>: 100%|███| 6/6 [00:00<00:00, 38.08 Samples/s]\n",
      "Processing <PIL.Image.Image image mode=RGB size=300x300 at 0x1889E118688>: 100%|███| 6/6 [00:00<00:00, 37.57 Samples/s]\n",
      "Processing <PIL.Image.Image image mode=RGB size=300x300 at 0x1889E118A48>: 100%|███| 6/6 [00:00<00:00, 38.94 Samples/s]\n",
      "Executing Pipeline:   0%|                                                                  | 0/6 [00:00<?, ? Samples/s]"
     ]
    },
    {
     "name": "stdout",
     "output_type": "stream",
     "text": [
      "Initialised with 6 image(s) found.\n",
      "Output directory set to japanese_fagaceae_testset_augmented\\Ichiigashi\\..\\..\\bestN_dataset\\25\\Ichiigashi."
     ]
    },
    {
     "name": "stderr",
     "output_type": "stream",
     "text": [
      "Processing <PIL.Image.Image image mode=RGB size=300x300 at 0x1889E101448>: 100%|███| 6/6 [00:00<00:00, 29.56 Samples/s]\n",
      "Processing <PIL.Image.Image image mode=RGB size=300x300 at 0x1889E118988>: 100%|███| 6/6 [00:00<00:00, 39.07 Samples/s]\n",
      "Processing <PIL.Image.Image image mode=RGB size=300x300 at 0x1889E118048>: 100%|███| 6/6 [00:00<00:00, 41.49 Samples/s]\n",
      "Processing <PIL.Image.Image image mode=RGB size=300x300 at 0x1889E113E88>: 100%|███| 6/6 [00:00<00:00, 43.28 Samples/s]\n",
      "Processing <PIL.Image.Image image mode=RGB size=300x300 at 0x1889E118448>: 100%|███| 6/6 [00:00<00:00, 42.77 Samples/s]\n",
      "Processing <PIL.Image.Image image mode=RGB size=300x300 at 0x1889E113A48>: 100%|███| 6/6 [00:00<00:00, 39.45 Samples/s]\n",
      "Processing <PIL.Image.Image image mode=RGB size=300x300 at 0x1889E123A08>: 100%|███| 6/6 [00:00<00:00, 38.94 Samples/s]\n",
      "Processing <PIL.Image.Image image mode=RGB size=300x300 at 0x1889E12B308>: 100%|███| 6/6 [00:00<00:00, 38.32 Samples/s]\n",
      "Processing <PIL.Image.Image image mode=RGB size=300x300 at 0x1889E1239C8>: 100%|███| 6/6 [00:00<00:00, 38.08 Samples/s]\n",
      "Processing <PIL.Image.Image image mode=RGB size=300x300 at 0x1889E123608>: 100%|███| 6/6 [00:00<00:00, 38.97 Samples/s]\n",
      "Processing <PIL.Image.Image image mode=RGB size=300x300 at 0x1889E12B3C8>: 100%|███| 6/6 [00:00<00:00, 38.10 Samples/s]\n",
      "Processing <PIL.Image.Image image mode=RGB size=300x300 at 0x1889E123C08>: 100%|███| 6/6 [00:00<00:00, 37.48 Samples/s]\n",
      "Processing <PIL.Image.Image image mode=RGB size=300x300 at 0x1889E1181C8>: 100%|███| 6/6 [00:00<00:00, 36.90 Samples/s]\n",
      "Processing <PIL.Image.Image image mode=RGB size=300x300 at 0x1889E123888>: 100%|███| 6/6 [00:00<00:00, 38.56 Samples/s]\n",
      "Processing <PIL.Image.Image image mode=RGB size=300x300 at 0x1889E12BF48>: 100%|███| 6/6 [00:00<00:00, 39.07 Samples/s]\n",
      "Processing <PIL.Image.Image image mode=RGB size=300x300 at 0x1889E12BE88>: 100%|███| 6/6 [00:00<00:00, 40.93 Samples/s]\n",
      "Processing <PIL.Image.Image image mode=RGB size=300x300 at 0x1889E1013C8>: 100%|███| 6/6 [00:00<00:00, 39.32 Samples/s]\n",
      "Processing <PIL.Image.Image image mode=RGB size=300x300 at 0x1889E118DC8>: 100%|███| 6/6 [00:00<00:00, 36.91 Samples/s]\n",
      "Processing <PIL.Image.Image image mode=RGB size=300x300 at 0x1889E1181C8>: 100%|███| 6/6 [00:00<00:00, 37.84 Samples/s]\n",
      "Processing <PIL.Image.Image image mode=RGB size=300x300 at 0x1889E12B188>: 100%|███| 6/6 [00:00<00:00, 37.37 Samples/s]\n",
      "Processing <PIL.Image.Image image mode=RGB size=300x300 at 0x1889E12BF48>: 100%|███| 6/6 [00:00<00:00, 38.83 Samples/s]\n",
      "Processing <PIL.Image.Image image mode=RGB size=300x300 at 0x1889E12B488>: 100%|███| 6/6 [00:00<00:00, 35.60 Samples/s]\n",
      "Processing <PIL.Image.Image image mode=RGB size=300x300 at 0x1889E12BD08>: 100%|███| 6/6 [00:00<00:00, 34.98 Samples/s]\n",
      "Processing <PIL.Image.Image image mode=RGB size=300x300 at 0x1889E118908>: 100%|███| 6/6 [00:00<00:00, 37.84 Samples/s]\n",
      "Processing <PIL.Image.Image image mode=RGB size=300x300 at 0x1889B085E88>: 100%|███| 6/6 [00:00<00:00, 39.84 Samples/s]\n",
      "Processing <PIL.Image.Image image mode=RGB size=300x300 at 0x1889B0852C8>: 100%|███| 6/6 [00:00<00:00, 35.39 Samples/s]\n",
      "Executing Pipeline:   0%|                                                                  | 0/6 [00:00<?, ? Samples/s]"
     ]
    },
    {
     "name": "stdout",
     "output_type": "stream",
     "text": [
      "Initialised with 6 image(s) found.\n",
      "Output directory set to japanese_fagaceae_testset_augmented\\Inubuna\\..\\..\\bestN_dataset\\25\\Inubuna."
     ]
    },
    {
     "name": "stderr",
     "output_type": "stream",
     "text": [
      "Processing <PIL.Image.Image image mode=RGB size=300x300 at 0x1889B08D108>: 100%|███| 6/6 [00:00<00:00, 38.56 Samples/s]\n",
      "Processing <PIL.Image.Image image mode=RGB size=300x300 at 0x1889E12BCC8>: 100%|███| 6/6 [00:00<00:00, 40.11 Samples/s]\n",
      "Processing <PIL.Image.Image image mode=RGB size=300x300 at 0x1889B085148>: 100%|███| 6/6 [00:00<00:00, 42.97 Samples/s]\n",
      "Processing <PIL.Image.Image image mode=RGB size=300x300 at 0x1889E123708>: 100%|███| 6/6 [00:00<00:00, 41.49 Samples/s]\n",
      "Processing <PIL.Image.Image image mode=RGB size=300x300 at 0x1889B085FC8>: 100%|███| 6/6 [00:00<00:00, 39.90 Samples/s]\n",
      "Processing <PIL.Image.Image image mode=RGB size=300x300 at 0x1889B085E48>: 100%|███| 6/6 [00:00<00:00, 37.95 Samples/s]\n",
      "Processing <PIL.Image.Image image mode=RGB size=300x300 at 0x1889B085A48>: 100%|███| 6/6 [00:00<00:00, 38.32 Samples/s]\n",
      "Processing <PIL.Image.Image image mode=RGB size=300x300 at 0x1889B08D688>: 100%|███| 6/6 [00:00<00:00, 38.32 Samples/s]\n",
      "Processing <PIL.Image.Image image mode=RGB size=300x300 at 0x1889B08D708>: 100%|███| 6/6 [00:00<00:00, 21.18 Samples/s]\n",
      "Processing <PIL.Image.Image image mode=RGB size=300x300 at 0x1889B085C48>: 100%|███| 6/6 [00:00<00:00, 27.85 Samples/s]\n",
      "Processing <PIL.Image.Image image mode=RGB size=300x300 at 0x1889B084808>: 100%|███| 6/6 [00:00<00:00, 26.75 Samples/s]\n",
      "Processing <PIL.Image.Image image mode=RGB size=300x300 at 0x1889B084248>: 100%|███| 6/6 [00:00<00:00, 40.53 Samples/s]\n",
      "Processing <PIL.Image.Image image mode=RGB size=300x300 at 0x1889B0851C8>: 100%|███| 6/6 [00:00<00:00, 39.54 Samples/s]\n",
      "Processing <PIL.Image.Image image mode=RGB size=300x300 at 0x1889B0845C8>: 100%|███| 6/6 [00:00<00:00, 26.16 Samples/s]\n",
      "Processing <PIL.Image.Image image mode=RGB size=300x300 at 0x1889B08D148>: 100%|███| 6/6 [00:01<00:00,  4.04 Samples/s]\n",
      "Processing <PIL.Image.Image image mode=RGB size=300x300 at 0x1889B08D948>: 100%|███| 6/6 [00:02<00:00,  2.15 Samples/s]\n",
      "Processing <PIL.Image.Image image mode=RGB size=300x300 at 0x1889B08D5C8>: 100%|███| 6/6 [00:01<00:00,  5.36 Samples/s]\n",
      "Processing <PIL.Image.Image image mode=RGB size=300x300 at 0x1889E12B508>: 100%|███| 6/6 [00:01<00:00,  5.05 Samples/s]\n",
      "Processing <PIL.Image.Image image mode=RGB size=300x300 at 0x1889B085308>: 100%|███| 6/6 [00:01<00:00,  3.90 Samples/s]\n",
      "Processing <PIL.Image.Image image mode=RGB size=300x300 at 0x1889B08D948>: 100%|███| 6/6 [00:02<00:00,  2.87 Samples/s]\n",
      "Processing <PIL.Image.Image image mode=RGB size=300x300 at 0x1889B08DD08>: 100%|███| 6/6 [00:01<00:00,  5.38 Samples/s]\n",
      "Processing <PIL.Image.Image image mode=RGB size=300x300 at 0x1889B08DC88>: 100%|███| 6/6 [00:00<00:00,  7.45 Samples/s]\n",
      "Processing <PIL.Image.Image image mode=RGB size=300x300 at 0x1889B091348>: 100%|███| 6/6 [00:00<00:00, 37.84 Samples/s]\n",
      "Processing <PIL.Image.Image image mode=RGB size=300x300 at 0x1889B085FC8>: 100%|███| 6/6 [00:00<00:00, 17.61 Samples/s]\n",
      "Executing Pipeline:   0%|                                                                  | 0/6 [00:00<?, ? Samples/s]"
     ]
    },
    {
     "name": "stdout",
     "output_type": "stream",
     "text": [
      "Initialised with 6 image(s) found.\n",
      "Output directory set to japanese_fagaceae_testset_augmented\\Kunugi\\..\\..\\bestN_dataset\\25\\Kunugi."
     ]
    },
    {
     "name": "stderr",
     "output_type": "stream",
     "text": [
      "Processing <PIL.Image.Image image mode=RGB size=300x300 at 0x1889B0911C8>: 100%|███| 6/6 [00:00<00:00, 11.96 Samples/s]\n",
      "Processing <PIL.Image.Image image mode=RGB size=300x300 at 0x1889B091E08>: 100%|███| 6/6 [00:01<00:00,  5.05 Samples/s]\n",
      "Processing <PIL.Image.Image image mode=RGB size=300x300 at 0x1889B091348>: 100%|███| 6/6 [00:02<00:00,  2.96 Samples/s]\n",
      "Processing <PIL.Image.Image image mode=RGB size=300x300 at 0x1889B084788>: 100%|███| 6/6 [00:02<00:00,  2.32 Samples/s]\n",
      "Processing <PIL.Image.Image image mode=RGB size=300x300 at 0x1889B091BC8>: 100%|███| 6/6 [00:02<00:00,  2.09 Samples/s]\n",
      "Processing <PIL.Image.Image image mode=RGB size=300x300 at 0x1889B09F288>: 100%|███| 6/6 [00:03<00:00,  1.90 Samples/s]\n",
      "Processing <PIL.Image.Image image mode=RGB size=300x300 at 0x1889B09F8C8>: 100%|███| 6/6 [00:00<00:00, 13.53 Samples/s]\n",
      "Processing <PIL.Image.Image image mode=RGB size=300x300 at 0x1889B09FBC8>: 100%|███| 6/6 [00:00<00:00, 33.26 Samples/s]\n",
      "Processing <PIL.Image.Image image mode=RGB size=300x300 at 0x1889B091088>: 100%|███| 6/6 [00:00<00:00, 16.48 Samples/s]\n",
      "Processing <PIL.Image.Image image mode=RGB size=300x300 at 0x1889B09F8C8>: 100%|███| 6/6 [00:00<00:00, 17.76 Samples/s]\n",
      "Processing <PIL.Image.Image image mode=RGB size=300x300 at 0x1889B091E88>: 100%|███| 6/6 [00:00<00:00,  9.85 Samples/s]\n",
      "Processing <PIL.Image.Image image mode=RGB size=300x300 at 0x1889B09F448>: 100%|███| 6/6 [00:02<00:00,  2.49 Samples/s]\n",
      "Processing <PIL.Image.Image image mode=RGB size=300x300 at 0x1889B09FD88>: 100%|███| 6/6 [00:03<00:00,  1.71 Samples/s]\n",
      "Processing <PIL.Image.Image image mode=RGB size=300x300 at 0x1889B08D7C8>: 100%|███| 6/6 [00:00<00:00,  6.70 Samples/s]\n",
      "Processing <PIL.Image.Image image mode=RGB size=300x300 at 0x1889B0A6188>: 100%|███| 6/6 [00:01<00:00,  4.51 Samples/s]\n",
      "Processing <PIL.Image.Image image mode=RGB size=300x300 at 0x1889B0A6908>: 100%|███| 6/6 [00:00<00:00,  7.06 Samples/s]\n",
      "Processing <PIL.Image.Image image mode=RGB size=300x300 at 0x1889B0A6508>: 100%|███| 6/6 [00:01<00:00,  4.80 Samples/s]\n",
      "Processing <PIL.Image.Image image mode=RGB size=300x300 at 0x1889B0A6608>: 100%|███| 6/6 [00:00<00:00,  7.04 Samples/s]\n",
      "Processing <PIL.Image.Image image mode=RGB size=300x300 at 0x1889B0A6748>: 100%|███| 6/6 [00:01<00:00,  4.65 Samples/s]\n",
      "Processing <PIL.Image.Image image mode=RGB size=300x300 at 0x1889B0A63C8>: 100%|███| 6/6 [00:00<00:00, 27.64 Samples/s]\n",
      "Processing <PIL.Image.Image image mode=RGB size=300x300 at 0x1889B0A6CC8>: 100%|███| 6/6 [00:00<00:00, 18.41 Samples/s]\n",
      "Processing <PIL.Image.Image image mode=RGB size=300x300 at 0x1889B09F7C8>: 100%|███| 6/6 [00:00<00:00, 19.38 Samples/s]\n",
      "Processing <PIL.Image.Image image mode=RGB size=300x300 at 0x1889B0A6888>: 100%|███| 6/6 [00:00<00:00, 22.69 Samples/s]\n",
      "Processing <PIL.Image.Image image mode=RGB size=300x300 at 0x1889B09F5C8>: 100%|███| 6/6 [00:00<00:00, 17.78 Samples/s]\n",
      "Processing <PIL.Image.Image image mode=RGB size=300x300 at 0x1889B0A0348>: 100%|███| 6/6 [00:00<00:00, 26.79 Samples/s]\n",
      "Executing Pipeline:   0%|                                                                  | 0/6 [00:00<?, ? Samples/s]"
     ]
    },
    {
     "name": "stdout",
     "output_type": "stream",
     "text": [
      "Initialised with 6 image(s) found.\n",
      "Output directory set to japanese_fagaceae_testset_augmented\\Kuri\\..\\..\\bestN_dataset\\25\\Kuri."
     ]
    },
    {
     "name": "stderr",
     "output_type": "stream",
     "text": [
      "Processing <PIL.Image.Image image mode=RGB size=300x300 at 0x1889B0A6288>: 100%|███| 6/6 [00:03<00:00,  2.00 Samples/s]\n",
      "Processing <PIL.Image.Image image mode=RGB size=300x300 at 0x1889B09F908>: 100%|███| 6/6 [00:01<00:00,  4.34 Samples/s]\n",
      "Processing <PIL.Image.Image image mode=RGB size=300x300 at 0x1889B0A6908>: 100%|███| 6/6 [00:04<00:00,  1.39 Samples/s]\n",
      "Processing <PIL.Image.Image image mode=RGB size=300x300 at 0x1889B0A0BC8>: 100%|███| 6/6 [00:01<00:00,  4.19 Samples/s]\n",
      "Processing <PIL.Image.Image image mode=RGB size=300x300 at 0x1889B09F588>: 100%|███| 6/6 [00:01<00:00,  3.73 Samples/s]\n",
      "Processing <PIL.Image.Image image mode=RGB size=300x300 at 0x1889B0A0A08>: 100%|███| 6/6 [00:00<00:00, 30.10 Samples/s]\n",
      "Processing <PIL.Image.Image image mode=RGB size=300x300 at 0x1889B0A61C8>: 100%|███| 6/6 [00:00<00:00, 38.07 Samples/s]\n",
      "Processing <PIL.Image.Image image mode=RGB size=300x300 at 0x1889B0A01C8>: 100%|███| 6/6 [00:00<00:00, 40.51 Samples/s]\n",
      "Processing <PIL.Image.Image image mode=RGB size=300x300 at 0x1889B0A0048>: 100%|███| 6/6 [00:00<00:00, 40.65 Samples/s]\n",
      "Processing <PIL.Image.Image image mode=RGB size=300x300 at 0x1889B09FE48>: 100%|███| 6/6 [00:00<00:00, 38.32 Samples/s]\n",
      "Processing <PIL.Image.Image image mode=RGB size=300x300 at 0x1889B0A0D48>: 100%|███| 6/6 [00:00<00:00, 40.11 Samples/s]\n",
      "Processing <PIL.Image.Image image mode=RGB size=300x300 at 0x1889B0A0208>: 100%|███| 6/6 [00:00<00:00, 40.65 Samples/s]\n",
      "Processing <PIL.Image.Image image mode=RGB size=300x300 at 0x1889B09F108>: 100%|███| 6/6 [00:00<00:00, 40.11 Samples/s]\n",
      "Processing <PIL.Image.Image image mode=RGB size=300x300 at 0x1889B0A09C8>: 100%|███| 6/6 [00:00<00:00, 39.58 Samples/s]\n",
      "Processing <PIL.Image.Image image mode=RGB size=300x300 at 0x1889B0A0388>: 100%|███| 6/6 [00:00<00:00, 38.89 Samples/s]\n",
      "Processing <PIL.Image.Image image mode=RGB size=300x300 at 0x1889B0A0EC8>: 100%|███| 6/6 [00:00<00:00, 38.56 Samples/s]\n",
      "Processing <PIL.Image.Image image mode=RGB size=300x300 at 0x1889B0B2448>: 100%|███| 6/6 [00:00<00:00, 38.20 Samples/s]\n",
      "Processing <PIL.Image.Image image mode=RGB size=300x300 at 0x1889B09F188>: 100%|███| 6/6 [00:00<00:00, 38.12 Samples/s]\n",
      "Processing <PIL.Image.Image image mode=RGB size=300x300 at 0x1889B09F848>: 100%|███| 6/6 [00:00<00:00, 38.69 Samples/s]\n",
      "Processing <PIL.Image.Image image mode=RGB size=300x300 at 0x1889B0B54C8>: 100%|███| 6/6 [00:00<00:00, 35.60 Samples/s]\n",
      "Processing <PIL.Image.Image image mode=RGB size=300x300 at 0x1889B0B26C8>: 100%|███| 6/6 [00:00<00:00, 16.85 Samples/s]\n",
      "Processing <PIL.Image.Image image mode=RGB size=300x300 at 0x1889B0B2508>: 100%|███| 6/6 [00:00<00:00, 36.46 Samples/s]\n",
      "Processing <PIL.Image.Image image mode=RGB size=300x300 at 0x1889B0B5948>: 100%|███| 6/6 [00:00<00:00, 42.67 Samples/s]\n",
      "Processing <PIL.Image.Image image mode=RGB size=300x300 at 0x1889B0B2988>: 100%|███| 6/6 [00:00<00:00, 39.42 Samples/s]\n",
      "Processing <PIL.Image.Image image mode=RGB size=300x300 at 0x1889B0B2F88>: 100%|███| 6/6 [00:00<00:00, 39.84 Samples/s]\n",
      "Processing <PIL.Image.Image image mode=RGB size=300x300 at 0x1889B0BF808>: 100%|███| 6/6 [00:00<00:00, 41.37 Samples/s]\n",
      "Executing Pipeline:   0%|                                                                  | 0/6 [00:00<?, ? Samples/s]"
     ]
    },
    {
     "name": "stdout",
     "output_type": "stream",
     "text": [
      "Initialised with 6 image(s) found.\n",
      "Output directory set to japanese_fagaceae_testset_augmented\\Mizunara\\..\\..\\bestN_dataset\\25\\Mizunara."
     ]
    },
    {
     "name": "stderr",
     "output_type": "stream",
     "text": [
      "Processing <PIL.Image.Image image mode=RGB size=300x300 at 0x1889B0A6D08>: 100%|███| 6/6 [00:00<00:00, 15.84 Samples/s]\n",
      "Processing <PIL.Image.Image image mode=RGB size=300x300 at 0x1889B0BFC48>: 100%|███| 6/6 [00:00<00:00, 26.74 Samples/s]\n",
      "Processing <PIL.Image.Image image mode=RGB size=300x300 at 0x1889B0BF148>: 100%|███| 6/6 [00:00<00:00, 36.46 Samples/s]\n",
      "Processing <PIL.Image.Image image mode=RGB size=300x300 at 0x1889B0BF348>: 100%|███| 6/6 [00:00<00:00, 40.11 Samples/s]\n",
      "Processing <PIL.Image.Image image mode=RGB size=300x300 at 0x1889B0BF8C8>: 100%|███| 6/6 [00:00<00:00, 36.83 Samples/s]\n",
      "Processing <PIL.Image.Image image mode=RGB size=300x300 at 0x1889B0BF988>: 100%|███| 6/6 [00:00<00:00, 39.56 Samples/s]\n",
      "Processing <PIL.Image.Image image mode=RGB size=300x300 at 0x1889B0B5288>: 100%|███| 6/6 [00:00<00:00, 33.61 Samples/s]\n",
      "Processing <PIL.Image.Image image mode=RGB size=300x300 at 0x1889B0BF448>: 100%|███| 6/6 [00:00<00:00, 10.48 Samples/s]\n",
      "Processing <PIL.Image.Image image mode=RGB size=300x300 at 0x1889B0BF9C8>: 100%|███| 6/6 [00:00<00:00, 27.89 Samples/s]\n",
      "Processing <PIL.Image.Image image mode=RGB size=300x300 at 0x1889D0E3E88>: 100%|███| 6/6 [00:00<00:00, 37.37 Samples/s]\n",
      "Processing <PIL.Image.Image image mode=RGB size=300x300 at 0x1889B0BF808>: 100%|███| 6/6 [00:00<00:00, 32.17 Samples/s]\n",
      "Processing <PIL.Image.Image image mode=RGB size=300x300 at 0x1889B0BF208>: 100%|███| 6/6 [00:00<00:00, 38.32 Samples/s]\n",
      "Processing <PIL.Image.Image image mode=RGB size=300x300 at 0x1889D0E3E88>: 100%|███| 6/6 [00:00<00:00,  9.74 Samples/s]\n",
      "Processing <PIL.Image.Image image mode=RGB size=300x300 at 0x1889D0ED1C8>: 100%|███| 6/6 [00:00<00:00, 30.42 Samples/s]\n",
      "Processing <PIL.Image.Image image mode=RGB size=300x300 at 0x1889B0BF4C8>: 100%|███| 6/6 [00:00<00:00, 37.02 Samples/s]\n",
      "Processing <PIL.Image.Image image mode=RGB size=300x300 at 0x1889D0E36C8>: 100%|███| 6/6 [00:00<00:00, 39.06 Samples/s]\n",
      "Processing <PIL.Image.Image image mode=RGB size=300x300 at 0x1889D0ED508>: 100%|███| 6/6 [00:00<00:00, 28.31 Samples/s]\n",
      "Processing <PIL.Image.Image image mode=RGB size=300x300 at 0x1889D0EDA48>: 100%|███| 6/6 [00:00<00:00, 10.33 Samples/s]\n",
      "Processing <PIL.Image.Image image mode=RGB size=300x300 at 0x1889D0EDCC8>: 100%|███| 6/6 [00:00<00:00, 20.34 Samples/s]\n",
      "Processing <PIL.Image.Image image mode=RGB size=300x300 at 0x1889D0E3A88>: 100%|███| 6/6 [00:00<00:00, 32.37 Samples/s]\n",
      "Processing <PIL.Image.Image image mode=RGB size=300x300 at 0x1889D0ED288>: 100%|███| 6/6 [00:00<00:00, 35.16 Samples/s]\n",
      "Processing <PIL.Image.Image image mode=RGB size=300x300 at 0x1889B0BFF88>: 100%|███| 6/6 [00:00<00:00, 33.30 Samples/s]\n",
      "Processing <PIL.Image.Image image mode=RGB size=300x300 at 0x1889D0E3608>: 100%|███| 6/6 [00:00<00:00, 10.41 Samples/s]\n",
      "Processing <PIL.Image.Image image mode=RGB size=300x300 at 0x1889D0E3A88>: 100%|███| 6/6 [00:00<00:00, 19.82 Samples/s]\n"
     ]
    }
   ],
   "source": [
    "for sp in sp_name:\n",
    "    p = aug.Pipeline(os.path.join(TEST_PATH, sp),\n",
    "                     os.path.join(OUT_PATH, sp))\n",
    "    p.crop_by_size(1, IMAGE_SIZE, IMAGE_SIZE, centre=False)\n",
    "    for _ in range(N):\n",
    "        p.process()"
   ]
  },
  {
   "cell_type": "code",
   "execution_count": 4,
   "metadata": {},
   "outputs": [
    {
     "name": "stdout",
     "output_type": "stream",
     "text": [
      "WARNING:tensorflow:From C:\\Users\\taufi\\Anaconda3\\envs\\tf_14\\lib\\site-packages\\tensorflow\\python\\ops\\init_ops.py:97: calling GlorotUniform.__init__ (from tensorflow.python.ops.init_ops) with dtype is deprecated and will be removed in a future version.\n",
      "Instructions for updating:\n",
      "Call initializer instance with the dtype argument instead of passing it to the constructor\n",
      "WARNING:tensorflow:From C:\\Users\\taufi\\Anaconda3\\envs\\tf_14\\lib\\site-packages\\tensorflow\\python\\ops\\init_ops.py:1251: calling VarianceScaling.__init__ (from tensorflow.python.ops.init_ops) with dtype is deprecated and will be removed in a future version.\n",
      "Instructions for updating:\n",
      "Call initializer instance with the dtype argument instead of passing it to the constructor\n",
      "WARNING:tensorflow:From C:\\Users\\taufi\\Anaconda3\\envs\\tf_14\\lib\\site-packages\\tensorflow\\python\\ops\\init_ops.py:97: calling Zeros.__init__ (from tensorflow.python.ops.init_ops) with dtype is deprecated and will be removed in a future version.\n",
      "Instructions for updating:\n",
      "Call initializer instance with the dtype argument instead of passing it to the constructor\n",
      "WARNING:tensorflow:From C:\\Users\\taufi\\Anaconda3\\envs\\tf_14\\lib\\site-packages\\tensorflow\\python\\ops\\init_ops.py:97: calling Ones.__init__ (from tensorflow.python.ops.init_ops) with dtype is deprecated and will be removed in a future version.\n",
      "Instructions for updating:\n",
      "Call initializer instance with the dtype argument instead of passing it to the constructor\n"
     ]
    }
   ],
   "source": [
    "my_model = load_model(WEIGHT_PATH)"
   ]
  },
  {
   "cell_type": "code",
   "execution_count": 5,
   "metadata": {},
   "outputs": [
    {
     "name": "stdout",
     "output_type": "stream",
     "text": [
      "Found 1350 images belonging to 9 classes.\n"
     ]
    }
   ],
   "source": [
    "testing_datagen = ImageDataGenerator(\n",
    "    preprocessing_function=vgg16.preprocess_input\n",
    ")\n",
    "testing_generator = testing_datagen.flow_from_directory(\n",
    "    OUT_PATH[6:],\n",
    "    target_size=(IMAGE_SIZE, IMAGE_SIZE),\n",
    "    batch_size=BATCH_SIZE,\n",
    "    class_mode='categorical',\n",
    "    shuffle=False\n",
    ")"
   ]
  },
  {
   "cell_type": "code",
   "execution_count": 6,
   "metadata": {},
   "outputs": [
    {
     "name": "stdout",
     "output_type": "stream",
     "text": [
      "43/43 [==============================] - 22s 518ms/step - loss: 0.3497 - acc: 0.8889\n",
      "Loss \t\t: 0.34967172505715755\n",
      "Accuracy \t: 88.8889 %\n"
     ]
    }
   ],
   "source": [
    "score = my_model.evaluate_generator(\n",
    "    testing_generator,\n",
    "    verbose=1\n",
    ")\n",
    "print('Loss \\t\\t:', score[0])\n",
    "print('Accuracy \\t:', round(score[1] * 100, 4), '%')"
   ]
  },
  {
   "cell_type": "code",
   "execution_count": null,
   "metadata": {},
   "outputs": [],
   "source": []
  }
 ],
 "metadata": {
  "kernelspec": {
   "display_name": "Python 3",
   "language": "python",
   "name": "python3"
  },
  "language_info": {
   "codemirror_mode": {
    "name": "ipython",
    "version": 3
   },
   "file_extension": ".py",
   "mimetype": "text/x-python",
   "name": "python",
   "nbconvert_exporter": "python",
   "pygments_lexer": "ipython3",
   "version": "3.7.5"
  }
 },
 "nbformat": 4,
 "nbformat_minor": 2
}
