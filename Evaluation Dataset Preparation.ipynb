{
 "cells": [
  {
   "cell_type": "code",
   "execution_count": 1,
   "metadata": {},
   "outputs": [],
   "source": [
    "import os\n",
    "import Augmentor as aug\n",
    "from imutils import paths\n",
    "import shutil"
   ]
  },
  {
   "cell_type": "code",
   "execution_count": 2,
   "metadata": {},
   "outputs": [],
   "source": [
    "N = 5\n",
    "IMAGE_SIZE = 100\n",
    "TEST_PATH = os.path.join('japanese_fagaceae_testset_augmented')\n",
    "OUT_PATH = os.path.join('..', '..', \n",
    "                        'japanese_fagaceae_dataset_cropped_'+str(IMAGE_SIZE), 'test_image1')\n",
    "sp_name = os.listdir(TEST_PATH)"
   ]
  },
  {
   "cell_type": "code",
   "execution_count": 3,
   "metadata": {},
   "outputs": [
    {
     "name": "stderr",
     "output_type": "stream",
     "text": [
      "\r",
      "Executing Pipeline:   0%|                                                                  | 0/6 [00:00<?, ? Samples/s]"
     ]
    },
    {
     "name": "stdout",
     "output_type": "stream",
     "text": [
      "Initialised with 6 image(s) found.\n",
      "Output directory set to japanese_fagaceae_testset_augmented\\Abemaki\\..\\..\\japanese_fagaceae_dataset_cropped_100\\test_image1\\Abemaki."
     ]
    },
    {
     "name": "stderr",
     "output_type": "stream",
     "text": [
      "Processing <PIL.Image.Image image mode=RGB size=100x100 at 0x2488817EAC8>: 100%|███| 6/6 [00:00<00:00,  7.37 Samples/s]\n",
      "Processing <PIL.Image.Image image mode=RGB size=100x100 at 0x248820F8F88>: 100%|███| 6/6 [00:00<00:00, 36.24 Samples/s]\n",
      "Processing <PIL.Image.Image image mode=RGB size=100x100 at 0x2488818DD48>: 100%|███| 6/6 [00:00<00:00, 26.49 Samples/s]\n",
      "Processing <PIL.Image.Image image mode=RGB size=100x100 at 0x24888194FC8>: 100%|███| 6/6 [00:00<00:00, 37.60 Samples/s]\n",
      "Processing <PIL.Image.Image image mode=RGB size=100x100 at 0x24888196B88>: 100%|███| 6/6 [00:00<00:00, 25.13 Samples/s]\n",
      "Executing Pipeline:   0%|                                                                  | 0/6 [00:00<?, ? Samples/s]"
     ]
    },
    {
     "name": "stdout",
     "output_type": "stream",
     "text": [
      "Initialised with 6 image(s) found.\n",
      "Output directory set to japanese_fagaceae_testset_augmented\\Akagashi\\..\\..\\japanese_fagaceae_dataset_cropped_100\\test_image1\\Akagashi."
     ]
    },
    {
     "name": "stderr",
     "output_type": "stream",
     "text": [
      "Processing <PIL.Image.Image image mode=RGB size=100x100 at 0x24888174188>: 100%|███| 6/6 [00:00<00:00,  7.47 Samples/s]\n",
      "Processing <PIL.Image.Image image mode=RGB size=100x100 at 0x2488819E748>: 100%|███| 6/6 [00:00<00:00, 35.81 Samples/s]\n",
      "Processing <PIL.Image.Image image mode=RGB size=100x100 at 0x2488819CCC8>: 100%|███| 6/6 [00:00<00:00, 24.24 Samples/s]\n",
      "Processing <PIL.Image.Image image mode=RGB size=100x100 at 0x248881A19C8>: 100%|███| 6/6 [00:00<00:00, 32.87 Samples/s]\n",
      "Processing <PIL.Image.Image image mode=RGB size=100x100 at 0x248881A7648>: 100%|███| 6/6 [00:00<00:00, 17.82 Samples/s]\n",
      "Executing Pipeline:   0%|                                                                  | 0/6 [00:00<?, ? Samples/s]"
     ]
    },
    {
     "name": "stdout",
     "output_type": "stream",
     "text": [
      "Initialised with 6 image(s) found.\n",
      "Output directory set to japanese_fagaceae_testset_augmented\\Arakashi\\..\\..\\japanese_fagaceae_dataset_cropped_100\\test_image1\\Arakashi."
     ]
    },
    {
     "name": "stderr",
     "output_type": "stream",
     "text": [
      "Processing <PIL.Image.Image image mode=RGB size=100x100 at 0x24888194A48>: 100%|███| 6/6 [00:00<00:00,  8.38 Samples/s]\n",
      "Processing <PIL.Image.Image image mode=RGB size=100x100 at 0x248881AD0C8>: 100%|███| 6/6 [00:00<00:00, 36.24 Samples/s]\n",
      "Processing <PIL.Image.Image image mode=RGB size=100x100 at 0x248912412C8>: 100%|███| 6/6 [00:00<00:00, 24.77 Samples/s]\n",
      "Processing <PIL.Image.Image image mode=RGB size=100x100 at 0x248881ACF88>: 100%|███| 6/6 [00:00<00:00, 32.34 Samples/s]\n",
      "Processing <PIL.Image.Image image mode=RGB size=100x100 at 0x248881AD2C8>: 100%|███| 6/6 [00:00<00:00, 30.23 Samples/s]\n",
      "Executing Pipeline:   0%|                                                                  | 0/6 [00:00<?, ? Samples/s]"
     ]
    },
    {
     "name": "stdout",
     "output_type": "stream",
     "text": [
      "Initialised with 6 image(s) found.\n",
      "Output directory set to japanese_fagaceae_testset_augmented\\Buna\\..\\..\\japanese_fagaceae_dataset_cropped_100\\test_image1\\Buna."
     ]
    },
    {
     "name": "stderr",
     "output_type": "stream",
     "text": [
      "Processing <PIL.Image.Image image mode=RGB size=100x100 at 0x24891241A88>: 100%|███| 6/6 [00:01<00:00,  4.40 Samples/s]\n",
      "Processing <PIL.Image.Image image mode=RGB size=100x100 at 0x2489124C688>: 100%|███| 6/6 [00:00<00:00, 14.11 Samples/s]\n",
      "Processing <PIL.Image.Image image mode=RGB size=100x100 at 0x248881983C8>: 100%|███| 6/6 [00:00<00:00, 22.60 Samples/s]\n",
      "Processing <PIL.Image.Image image mode=RGB size=100x100 at 0x24891249A88>: 100%|███| 6/6 [00:00<00:00, 25.67 Samples/s]\n",
      "Processing <PIL.Image.Image image mode=RGB size=100x100 at 0x24888198A48>: 100%|███| 6/6 [00:00<00:00, 25.58 Samples/s]\n",
      "Executing Pipeline:   0%|                                                                  | 0/6 [00:00<?, ? Samples/s]"
     ]
    },
    {
     "name": "stdout",
     "output_type": "stream",
     "text": [
      "Initialised with 6 image(s) found.\n",
      "Output directory set to japanese_fagaceae_testset_augmented\\Ichiigashi\\..\\..\\japanese_fagaceae_dataset_cropped_100\\test_image1\\Ichiigashi."
     ]
    },
    {
     "name": "stderr",
     "output_type": "stream",
     "text": [
      "Processing <PIL.Image.Image image mode=RGB size=100x100 at 0x24891249748>: 100%|███| 6/6 [00:00<00:00,  7.29 Samples/s]\n",
      "Processing <PIL.Image.Image image mode=RGB size=100x100 at 0x2489124C088>: 100%|███| 6/6 [00:00<00:00, 25.38 Samples/s]\n",
      "Processing <PIL.Image.Image image mode=RGB size=100x100 at 0x24888198148>: 100%|███| 6/6 [00:00<00:00, 36.91 Samples/s]\n",
      "Processing <PIL.Image.Image image mode=RGB size=100x100 at 0x2488819AD88>: 100%|███| 6/6 [00:00<00:00, 35.60 Samples/s]\n",
      "Processing <PIL.Image.Image image mode=RGB size=100x100 at 0x2489124C808>: 100%|███| 6/6 [00:00<00:00, 17.05 Samples/s]\n",
      "Executing Pipeline:   0%|                                                                  | 0/6 [00:00<?, ? Samples/s]"
     ]
    },
    {
     "name": "stdout",
     "output_type": "stream",
     "text": [
      "Initialised with 6 image(s) found.\n",
      "Output directory set to japanese_fagaceae_testset_augmented\\Inubuna\\..\\..\\japanese_fagaceae_dataset_cropped_100\\test_image1\\Inubuna."
     ]
    },
    {
     "name": "stderr",
     "output_type": "stream",
     "text": [
      "Processing <PIL.Image.Image image mode=RGB size=100x100 at 0x248881986C8>: 100%|███| 6/6 [00:02<00:00,  2.29 Samples/s]\n",
      "Processing <PIL.Image.Image image mode=RGB size=100x100 at 0x2489124CE08>: 100%|███| 6/6 [00:00<00:00, 31.01 Samples/s]\n",
      "Processing <PIL.Image.Image image mode=RGB size=100x100 at 0x2489124C5C8>: 100%|███| 6/6 [00:00<00:00, 36.68 Samples/s]\n",
      "Processing <PIL.Image.Image image mode=RGB size=100x100 at 0x2489124C608>: 100%|███| 6/6 [00:00<00:00, 30.69 Samples/s]\n",
      "Processing <PIL.Image.Image image mode=RGB size=100x100 at 0x24888198C88>: 100%|███| 6/6 [00:00<00:00, 39.32 Samples/s]\n",
      "Executing Pipeline:   0%|                                                                  | 0/6 [00:00<?, ? Samples/s]"
     ]
    },
    {
     "name": "stdout",
     "output_type": "stream",
     "text": [
      "Initialised with 6 image(s) found.\n",
      "Output directory set to japanese_fagaceae_testset_augmented\\Kunugi\\..\\..\\japanese_fagaceae_dataset_cropped_100\\test_image1\\Kunugi."
     ]
    },
    {
     "name": "stderr",
     "output_type": "stream",
     "text": [
      "Processing <PIL.Image.Image image mode=RGB size=100x100 at 0x24891249188>: 100%|███| 6/6 [00:00<00:00, 15.78 Samples/s]\n",
      "Processing <PIL.Image.Image image mode=RGB size=100x100 at 0x2489124CA88>: 100%|███| 6/6 [00:00<00:00, 39.07 Samples/s]\n",
      "Processing <PIL.Image.Image image mode=RGB size=100x100 at 0x2489124C508>: 100%|███| 6/6 [00:00<00:00, 38.56 Samples/s]\n",
      "Processing <PIL.Image.Image image mode=RGB size=100x100 at 0x2489124EA08>: 100%|███| 6/6 [00:00<00:00, 37.85 Samples/s]\n",
      "Processing <PIL.Image.Image image mode=RGB size=100x100 at 0x2489124C488>: 100%|███| 6/6 [00:00<00:00, 39.58 Samples/s]\n",
      "Executing Pipeline:   0%|                                                                  | 0/6 [00:00<?, ? Samples/s]"
     ]
    },
    {
     "name": "stdout",
     "output_type": "stream",
     "text": [
      "Initialised with 6 image(s) found.\n",
      "Output directory set to japanese_fagaceae_testset_augmented\\Kuri\\..\\..\\japanese_fagaceae_dataset_cropped_100\\test_image1\\Kuri."
     ]
    },
    {
     "name": "stderr",
     "output_type": "stream",
     "text": [
      "Processing <PIL.Image.Image image mode=RGB size=100x100 at 0x2489124CF48>: 100%|███| 6/6 [00:00<00:00, 15.61 Samples/s]\n",
      "Processing <PIL.Image.Image image mode=RGB size=100x100 at 0x24888191748>: 100%|███| 6/6 [00:00<00:00, 38.56 Samples/s]\n",
      "Processing <PIL.Image.Image image mode=RGB size=100x100 at 0x24888198C88>: 100%|███| 6/6 [00:00<00:00, 39.07 Samples/s]\n",
      "Processing <PIL.Image.Image image mode=RGB size=100x100 at 0x2489124C848>: 100%|███| 6/6 [00:00<00:00, 38.32 Samples/s]\n",
      "Processing <PIL.Image.Image image mode=RGB size=100x100 at 0x24891257488>: 100%|███| 6/6 [00:00<00:00, 38.08 Samples/s]\n",
      "Executing Pipeline:   0%|                                                                  | 0/6 [00:00<?, ? Samples/s]"
     ]
    },
    {
     "name": "stdout",
     "output_type": "stream",
     "text": [
      "Initialised with 6 image(s) found.\n",
      "Output directory set to japanese_fagaceae_testset_augmented\\Mizunara\\..\\..\\japanese_fagaceae_dataset_cropped_100\\test_image1\\Mizunara."
     ]
    },
    {
     "name": "stderr",
     "output_type": "stream",
     "text": [
      "Processing <PIL.Image.Image image mode=RGB size=100x100 at 0x24891257448>: 100%|███| 6/6 [00:00<00:00, 13.05 Samples/s]\n",
      "Processing <PIL.Image.Image image mode=RGB size=100x100 at 0x2489124E508>: 100%|███| 6/6 [00:00<00:00, 38.08 Samples/s]\n",
      "Processing <PIL.Image.Image image mode=RGB size=100x100 at 0x2489124EA48>: 100%|███| 6/6 [00:00<00:00, 36.02 Samples/s]\n",
      "Processing <PIL.Image.Image image mode=RGB size=100x100 at 0x2489124EC08>: 100%|███| 6/6 [00:00<00:00, 37.84 Samples/s]\n",
      "Processing <PIL.Image.Image image mode=RGB size=100x100 at 0x2489124EA08>: 100%|███| 6/6 [00:00<00:00, 39.07 Samples/s]\n"
     ]
    }
   ],
   "source": [
    "for sp in sp_name:\n",
    "    p = aug.Pipeline(os.path.join(TEST_PATH, sp),\n",
    "                     os.path.join(OUT_PATH, sp))\n",
    "    p.crop_by_size(1, IMAGE_SIZE, IMAGE_SIZE, centre=False)\n",
    "    for _ in range(N):\n",
    "        p.process()"
   ]
  },
  {
   "cell_type": "code",
   "execution_count": 3,
   "metadata": {},
   "outputs": [],
   "source": [
    "for sp in sp_name:\n",
    "    test = os.path.join('japanese_fagaceae_dataset_cropped_'+str(IMAGE_SIZE), \n",
    "                        'test_image1', sp)\n",
    "    test2 = os.path.join('japanese_fagaceae_dataset_cropped_'+str(IMAGE_SIZE), \n",
    "                         'test_image2', sp)\n",
    "    test3 = os.path.join('japanese_fagaceae_dataset_cropped_'+str(IMAGE_SIZE), \n",
    "                         'test_image3', sp)\n",
    "    test4 = os.path.join('japanese_fagaceae_dataset_cropped_'+str(IMAGE_SIZE), \n",
    "                         'test_image4', sp)\n",
    "    test5 = os.path.join('japanese_fagaceae_dataset_cropped_'+str(IMAGE_SIZE), \n",
    "                         'test_image5', sp)\n",
    "    test6 = os.path.join('japanese_fagaceae_dataset_cropped_'+str(IMAGE_SIZE), \n",
    "                         'test_image6', sp)\n",
    "    \n",
    "    if not os.path.exists(test2):\n",
    "        os.makedirs(test2)\n",
    "        os.makedirs(test3)\n",
    "        os.makedirs(test4)\n",
    "        os.makedirs(test5)\n",
    "        os.makedirs(test6)\n",
    "    \n",
    "    imagePaths = list(paths.list_images(test))\n",
    "    for imagePath in imagePaths[:N]:\n",
    "        shutil.move(imagePath, test2)\n",
    "    for imagePath in imagePaths[N:N*2]:\n",
    "        shutil.move(imagePath, test3)\n",
    "    for imagePath in imagePaths[N*2:N*3]:\n",
    "        shutil.move(imagePath, test4)\n",
    "    for imagePath in imagePaths[N*3:N*4]:\n",
    "        shutil.move(imagePath, test5)\n",
    "    for imagePath in imagePaths[N*4:N*5]:\n",
    "        shutil.move(imagePath, test6)"
   ]
  },
  {
   "cell_type": "code",
   "execution_count": null,
   "metadata": {},
   "outputs": [],
   "source": []
  }
 ],
 "metadata": {
  "kernelspec": {
   "display_name": "Python 3",
   "language": "python",
   "name": "python3"
  },
  "language_info": {
   "codemirror_mode": {
    "name": "ipython",
    "version": 3
   },
   "file_extension": ".py",
   "mimetype": "text/x-python",
   "name": "python",
   "nbconvert_exporter": "python",
   "pygments_lexer": "ipython3",
   "version": "3.7.5"
  }
 },
 "nbformat": 4,
 "nbformat_minor": 2
}
