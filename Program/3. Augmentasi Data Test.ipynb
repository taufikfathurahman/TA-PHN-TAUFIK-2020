{
 "cells": [
  {
   "cell_type": "code",
   "execution_count": 1,
   "metadata": {},
   "outputs": [],
   "source": [
    "import os\n",
    "import Augmentor as aug\n",
    "from imutils import paths\n",
    "import shutil"
   ]
  },
  {
   "cell_type": "code",
   "execution_count": 2,
   "metadata": {},
   "outputs": [],
   "source": [
    "TEST_PATH = os.path.join('japanese_fagaceae_dataset', 'test')\n",
    "OUT_PATH = os.path.join('..', '..', '..', 'japanese_fagaceae_testset_augmented')\n",
    "sp_name = os.listdir(TEST_PATH)"
   ]
  },
  {
   "cell_type": "code",
   "execution_count": 3,
   "metadata": {},
   "outputs": [
    {
     "name": "stderr",
     "output_type": "stream",
     "text": [
      "\r",
      "Executing Pipeline:   0%|                                                                  | 0/3 [00:00<?, ? Samples/s]"
     ]
    },
    {
     "name": "stdout",
     "output_type": "stream",
     "text": [
      "Initialised with 3 image(s) found.\n",
      "Output directory set to japanese_fagaceae_dataset\\test\\Abemaki\\..\\..\\..\\japanese_fagaceae_testset_augmented\\Abemaki."
     ]
    },
    {
     "name": "stderr",
     "output_type": "stream",
     "text": [
      "Processing <PIL.Image.Image image mode=RGB size=4140x3096 at 0x279F14EE088>: 100%|█| 3/3 [00:01<00:00,  1.65 Samples/s]\n",
      "Executing Pipeline:   0%|                                                                  | 0/3 [00:00<?, ? Samples/s]"
     ]
    },
    {
     "name": "stdout",
     "output_type": "stream",
     "text": [
      "Initialised with 3 image(s) found.\n",
      "Output directory set to japanese_fagaceae_dataset\\test\\Akagashi\\..\\..\\..\\japanese_fagaceae_testset_augmented\\Akagashi."
     ]
    },
    {
     "name": "stderr",
     "output_type": "stream",
     "text": [
      "Processing <PIL.Image.Image image mode=RGB size=4140x3096 at 0x279F45303C8>: 100%|█| 3/3 [00:01<00:00,  1.64 Samples/s]\n",
      "Executing Pipeline:   0%|                                                                  | 0/3 [00:00<?, ? Samples/s]"
     ]
    },
    {
     "name": "stdout",
     "output_type": "stream",
     "text": [
      "Initialised with 3 image(s) found.\n",
      "Output directory set to japanese_fagaceae_dataset\\test\\Arakashi\\..\\..\\..\\japanese_fagaceae_testset_augmented\\Arakashi."
     ]
    },
    {
     "name": "stderr",
     "output_type": "stream",
     "text": [
      "Processing <PIL.Image.Image image mode=RGB size=4140x3096 at 0x279F4540608>: 100%|█| 3/3 [00:01<00:00,  1.54 Samples/s]\n",
      "Executing Pipeline:   0%|                                                                  | 0/3 [00:00<?, ? Samples/s]"
     ]
    },
    {
     "name": "stdout",
     "output_type": "stream",
     "text": [
      "Initialised with 3 image(s) found.\n",
      "Output directory set to japanese_fagaceae_dataset\\test\\Buna\\..\\..\\..\\japanese_fagaceae_testset_augmented\\Buna."
     ]
    },
    {
     "name": "stderr",
     "output_type": "stream",
     "text": [
      "Processing <PIL.Image.Image image mode=RGB size=4140x3096 at 0x279F4545CC8>: 100%|█| 3/3 [00:02<00:00,  1.23 Samples/s]\n",
      "Executing Pipeline:   0%|                                                                  | 0/3 [00:00<?, ? Samples/s]"
     ]
    },
    {
     "name": "stdout",
     "output_type": "stream",
     "text": [
      "Initialised with 3 image(s) found.\n",
      "Output directory set to japanese_fagaceae_dataset\\test\\Ichiigashi\\..\\..\\..\\japanese_fagaceae_testset_augmented\\Ichiigashi."
     ]
    },
    {
     "name": "stderr",
     "output_type": "stream",
     "text": [
      "Processing <PIL.Image.Image image mode=RGB size=4140x3096 at 0x279F454B688>: 100%|█| 3/3 [00:01<00:00,  1.65 Samples/s]\n",
      "Executing Pipeline:   0%|                                                                  | 0/3 [00:00<?, ? Samples/s]"
     ]
    },
    {
     "name": "stdout",
     "output_type": "stream",
     "text": [
      "Initialised with 3 image(s) found.\n",
      "Output directory set to japanese_fagaceae_dataset\\test\\Inubuna\\..\\..\\..\\japanese_fagaceae_testset_augmented\\Inubuna."
     ]
    },
    {
     "name": "stderr",
     "output_type": "stream",
     "text": [
      "Processing <PIL.Image.Image image mode=RGB size=4140x3096 at 0x279F454BD08>: 100%|█| 3/3 [00:12<00:00,  4.04s/ Samples]\n",
      "Executing Pipeline:   0%|                                                                  | 0/3 [00:00<?, ? Samples/s]"
     ]
    },
    {
     "name": "stdout",
     "output_type": "stream",
     "text": [
      "Initialised with 3 image(s) found.\n",
      "Output directory set to japanese_fagaceae_dataset\\test\\Kunugi\\..\\..\\..\\japanese_fagaceae_testset_augmented\\Kunugi."
     ]
    },
    {
     "name": "stderr",
     "output_type": "stream",
     "text": [
      "Processing <PIL.Image.Image image mode=RGB size=4140x3096 at 0x279F454D7C8>: 100%|█| 3/3 [00:02<00:00,  1.05 Samples/s]\n",
      "Executing Pipeline:   0%|                                                                  | 0/3 [00:00<?, ? Samples/s]"
     ]
    },
    {
     "name": "stdout",
     "output_type": "stream",
     "text": [
      "Initialised with 3 image(s) found.\n",
      "Output directory set to japanese_fagaceae_dataset\\test\\Kuri\\..\\..\\..\\japanese_fagaceae_testset_augmented\\Kuri."
     ]
    },
    {
     "name": "stderr",
     "output_type": "stream",
     "text": [
      "Processing <PIL.Image.Image image mode=RGB size=4140x3096 at 0x279F4550448>: 100%|█| 3/3 [00:07<00:00,  2.61s/ Samples]\n",
      "Executing Pipeline:   0%|                                                                  | 0/3 [00:00<?, ? Samples/s]"
     ]
    },
    {
     "name": "stdout",
     "output_type": "stream",
     "text": [
      "Initialised with 3 image(s) found.\n",
      "Output directory set to japanese_fagaceae_dataset\\test\\Mizunara\\..\\..\\..\\japanese_fagaceae_testset_augmented\\Mizunara."
     ]
    },
    {
     "name": "stderr",
     "output_type": "stream",
     "text": [
      "Processing <PIL.Image.Image image mode=RGB size=4140x3096 at 0x279F4551088>: 100%|█| 3/3 [00:01<00:00,  1.64 Samples/s]\n"
     ]
    }
   ],
   "source": [
    "for sp in sp_name:\n",
    "    p = aug.Pipeline(os.path.join(TEST_PATH, sp),\n",
    "                     os.path.join(OUT_PATH, sp))\n",
    "    p.rotate(probability=1, max_left_rotation=10, max_right_rotation=10)\n",
    "    p.process()"
   ]
  },
  {
   "cell_type": "code",
   "execution_count": null,
   "metadata": {},
   "outputs": [],
   "source": []
  }
 ],
 "metadata": {
  "kernelspec": {
   "display_name": "Python 3",
   "language": "python",
   "name": "python3"
  },
  "language_info": {
   "codemirror_mode": {
    "name": "ipython",
    "version": 3
   },
   "file_extension": ".py",
   "mimetype": "text/x-python",
   "name": "python",
   "nbconvert_exporter": "python",
   "pygments_lexer": "ipython3",
   "version": "3.7.5"
  }
 },
 "nbformat": 4,
 "nbformat_minor": 2
}
