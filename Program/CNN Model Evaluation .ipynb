{
 "cells": [
  {
   "cell_type": "code",
   "execution_count": 1,
   "metadata": {},
   "outputs": [
    {
     "name": "stderr",
     "output_type": "stream",
     "text": [
      "C:\\Users\\taufi\\Anaconda3\\envs\\tf_14\\lib\\site-packages\\tensorflow\\python\\framework\\dtypes.py:516: FutureWarning: Passing (type, 1) or '1type' as a synonym of type is deprecated; in a future version of numpy, it will be understood as (type, (1,)) / '(1,)type'.\n",
      "  _np_qint8 = np.dtype([(\"qint8\", np.int8, 1)])\n",
      "C:\\Users\\taufi\\Anaconda3\\envs\\tf_14\\lib\\site-packages\\tensorflow\\python\\framework\\dtypes.py:517: FutureWarning: Passing (type, 1) or '1type' as a synonym of type is deprecated; in a future version of numpy, it will be understood as (type, (1,)) / '(1,)type'.\n",
      "  _np_quint8 = np.dtype([(\"quint8\", np.uint8, 1)])\n",
      "C:\\Users\\taufi\\Anaconda3\\envs\\tf_14\\lib\\site-packages\\tensorflow\\python\\framework\\dtypes.py:518: FutureWarning: Passing (type, 1) or '1type' as a synonym of type is deprecated; in a future version of numpy, it will be understood as (type, (1,)) / '(1,)type'.\n",
      "  _np_qint16 = np.dtype([(\"qint16\", np.int16, 1)])\n",
      "C:\\Users\\taufi\\Anaconda3\\envs\\tf_14\\lib\\site-packages\\tensorflow\\python\\framework\\dtypes.py:519: FutureWarning: Passing (type, 1) or '1type' as a synonym of type is deprecated; in a future version of numpy, it will be understood as (type, (1,)) / '(1,)type'.\n",
      "  _np_quint16 = np.dtype([(\"quint16\", np.uint16, 1)])\n",
      "C:\\Users\\taufi\\Anaconda3\\envs\\tf_14\\lib\\site-packages\\tensorflow\\python\\framework\\dtypes.py:520: FutureWarning: Passing (type, 1) or '1type' as a synonym of type is deprecated; in a future version of numpy, it will be understood as (type, (1,)) / '(1,)type'.\n",
      "  _np_qint32 = np.dtype([(\"qint32\", np.int32, 1)])\n",
      "C:\\Users\\taufi\\Anaconda3\\envs\\tf_14\\lib\\site-packages\\tensorflow\\python\\framework\\dtypes.py:525: FutureWarning: Passing (type, 1) or '1type' as a synonym of type is deprecated; in a future version of numpy, it will be understood as (type, (1,)) / '(1,)type'.\n",
      "  np_resource = np.dtype([(\"resource\", np.ubyte, 1)])\n",
      "C:\\Users\\taufi\\Anaconda3\\envs\\tf_14\\lib\\site-packages\\tensorboard\\compat\\tensorflow_stub\\dtypes.py:541: FutureWarning: Passing (type, 1) or '1type' as a synonym of type is deprecated; in a future version of numpy, it will be understood as (type, (1,)) / '(1,)type'.\n",
      "  _np_qint8 = np.dtype([(\"qint8\", np.int8, 1)])\n",
      "C:\\Users\\taufi\\Anaconda3\\envs\\tf_14\\lib\\site-packages\\tensorboard\\compat\\tensorflow_stub\\dtypes.py:542: FutureWarning: Passing (type, 1) or '1type' as a synonym of type is deprecated; in a future version of numpy, it will be understood as (type, (1,)) / '(1,)type'.\n",
      "  _np_quint8 = np.dtype([(\"quint8\", np.uint8, 1)])\n",
      "C:\\Users\\taufi\\Anaconda3\\envs\\tf_14\\lib\\site-packages\\tensorboard\\compat\\tensorflow_stub\\dtypes.py:543: FutureWarning: Passing (type, 1) or '1type' as a synonym of type is deprecated; in a future version of numpy, it will be understood as (type, (1,)) / '(1,)type'.\n",
      "  _np_qint16 = np.dtype([(\"qint16\", np.int16, 1)])\n",
      "C:\\Users\\taufi\\Anaconda3\\envs\\tf_14\\lib\\site-packages\\tensorboard\\compat\\tensorflow_stub\\dtypes.py:544: FutureWarning: Passing (type, 1) or '1type' as a synonym of type is deprecated; in a future version of numpy, it will be understood as (type, (1,)) / '(1,)type'.\n",
      "  _np_quint16 = np.dtype([(\"quint16\", np.uint16, 1)])\n",
      "C:\\Users\\taufi\\Anaconda3\\envs\\tf_14\\lib\\site-packages\\tensorboard\\compat\\tensorflow_stub\\dtypes.py:545: FutureWarning: Passing (type, 1) or '1type' as a synonym of type is deprecated; in a future version of numpy, it will be understood as (type, (1,)) / '(1,)type'.\n",
      "  _np_qint32 = np.dtype([(\"qint32\", np.int32, 1)])\n",
      "C:\\Users\\taufi\\Anaconda3\\envs\\tf_14\\lib\\site-packages\\tensorboard\\compat\\tensorflow_stub\\dtypes.py:550: FutureWarning: Passing (type, 1) or '1type' as a synonym of type is deprecated; in a future version of numpy, it will be understood as (type, (1,)) / '(1,)type'.\n",
      "  np_resource = np.dtype([(\"resource\", np.ubyte, 1)])\n"
     ]
    }
   ],
   "source": [
    "from tensorflow.keras.models import load_model\n",
    "from tensorflow.keras.preprocessing.image import ImageDataGenerator\n",
    "from tensorflow.keras.applications import vgg16, resnet50, mobilenet, densenet, xception\n",
    "\n",
    "from sklearn.metrics import classification_report\n",
    "\n",
    "import os\n",
    "import numpy as np\n",
    "from scipy.stats import mode\n",
    "from imutils import paths"
   ]
  },
  {
   "cell_type": "code",
   "execution_count": 2,
   "metadata": {},
   "outputs": [],
   "source": [
    "IMAGE_SIZE = 100\n",
    "BATCH_SIZE = 32\n",
    "BASE_ARCH = 'Xception'\n",
    "MODEL_WEIGHT = os.path.join('result', str(IMAGE_SIZE), BASE_ARCH, \n",
    "                            '['+BASE_ARCH+'_'+str(IMAGE_SIZE)+'] weight.h5')\n",
    "TEST1_PATH = os.path.join('japanese_fagaceae_dataset_cropped_'+str(IMAGE_SIZE), 'test_image1')\n",
    "TEST2_PATH = os.path.join('japanese_fagaceae_dataset_cropped_'+str(IMAGE_SIZE), 'test_image2')\n",
    "TEST3_PATH = os.path.join('japanese_fagaceae_dataset_cropped_'+str(IMAGE_SIZE), 'test_image3')\n",
    "TEST4_PATH = os.path.join('japanese_fagaceae_dataset_cropped_'+str(IMAGE_SIZE), 'test_image4')\n",
    "TEST5_PATH = os.path.join('japanese_fagaceae_dataset_cropped_'+str(IMAGE_SIZE), 'test_image5')\n",
    "TEST6_PATH = os.path.join('japanese_fagaceae_dataset_cropped_'+str(IMAGE_SIZE), 'test_image6')\n",
    "\n",
    "TRUE_LABEL = [0, 1, 2, 3, 4, 5, 6, 7, 8,\n",
    "              0, 1, 2, 3, 4, 5, 6, 7, 8,\n",
    "              0, 1, 2, 3, 4, 5, 6, 7, 8,\n",
    "              0, 1, 2, 3, 4, 5, 6, 7, 8,\n",
    "              0, 1, 2, 3, 4, 5, 6, 7, 8,\n",
    "              0, 1, 2, 3, 4, 5, 6, 7, 8]"
   ]
  },
  {
   "cell_type": "code",
   "execution_count": 3,
   "metadata": {},
   "outputs": [
    {
     "name": "stdout",
     "output_type": "stream",
     "text": [
      "WARNING:tensorflow:From C:\\Users\\taufi\\Anaconda3\\envs\\tf_14\\lib\\site-packages\\tensorflow\\python\\ops\\init_ops.py:97: calling GlorotUniform.__init__ (from tensorflow.python.ops.init_ops) with dtype is deprecated and will be removed in a future version.\n",
      "Instructions for updating:\n",
      "Call initializer instance with the dtype argument instead of passing it to the constructor\n",
      "WARNING:tensorflow:From C:\\Users\\taufi\\Anaconda3\\envs\\tf_14\\lib\\site-packages\\tensorflow\\python\\ops\\init_ops.py:1251: calling VarianceScaling.__init__ (from tensorflow.python.ops.init_ops) with dtype is deprecated and will be removed in a future version.\n",
      "Instructions for updating:\n",
      "Call initializer instance with the dtype argument instead of passing it to the constructor\n",
      "WARNING:tensorflow:From C:\\Users\\taufi\\Anaconda3\\envs\\tf_14\\lib\\site-packages\\tensorflow\\python\\ops\\init_ops.py:97: calling Zeros.__init__ (from tensorflow.python.ops.init_ops) with dtype is deprecated and will be removed in a future version.\n",
      "Instructions for updating:\n",
      "Call initializer instance with the dtype argument instead of passing it to the constructor\n",
      "WARNING:tensorflow:From C:\\Users\\taufi\\Anaconda3\\envs\\tf_14\\lib\\site-packages\\tensorflow\\python\\ops\\init_ops.py:97: calling Ones.__init__ (from tensorflow.python.ops.init_ops) with dtype is deprecated and will be removed in a future version.\n",
      "Instructions for updating:\n",
      "Call initializer instance with the dtype argument instead of passing it to the constructor\n"
     ]
    }
   ],
   "source": [
    "my_model = load_model(MODEL_WEIGHT)"
   ]
  },
  {
   "cell_type": "code",
   "execution_count": 4,
   "metadata": {},
   "outputs": [],
   "source": [
    "if BASE_ARCH == 'VGG16':\n",
    "    preprocessing_function = vgg16.preprocess_input\n",
    "elif BASE_ARCH == 'ResNet50':\n",
    "    preprocessing_function = resnet50.preprocess_input\n",
    "elif BASE_ARCH =='MobileNet':\n",
    "    preprocessing_function = mobilenet.preprocess_input\n",
    "elif BASE_ARCH =='DenseNet121':\n",
    "    preprocessing_function = densenet.preprocess_input\n",
    "elif BASE_ARCH =='Xception':\n",
    "    preprocessing_function = xception.preprocess_input\n",
    "else:\n",
    "    pass\n",
    "\n",
    "testing_datagen = ImageDataGenerator(\n",
    "    preprocessing_function=preprocessing_function\n",
    ")"
   ]
  },
  {
   "cell_type": "code",
   "execution_count": 5,
   "metadata": {},
   "outputs": [
    {
     "name": "stdout",
     "output_type": "stream",
     "text": [
      "Found 45 images belonging to 9 classes.\n",
      "Found 45 images belonging to 9 classes.\n",
      "Found 45 images belonging to 9 classes.\n",
      "Found 45 images belonging to 9 classes.\n",
      "Found 45 images belonging to 9 classes.\n",
      "Found 45 images belonging to 9 classes.\n"
     ]
    }
   ],
   "source": [
    "testing_generator1 = testing_datagen.flow_from_directory(\n",
    "    TEST1_PATH,\n",
    "    target_size=(IMAGE_SIZE, IMAGE_SIZE),\n",
    "    batch_size=BATCH_SIZE,\n",
    "    class_mode='categorical',\n",
    "    shuffle=False\n",
    ")\n",
    "\n",
    "testing_generator2 = testing_datagen.flow_from_directory(\n",
    "    TEST2_PATH,\n",
    "    target_size=(IMAGE_SIZE, IMAGE_SIZE),\n",
    "    batch_size=BATCH_SIZE,\n",
    "    class_mode='categorical',\n",
    "    shuffle=False\n",
    ")\n",
    "\n",
    "testing_generator3 = testing_datagen.flow_from_directory(\n",
    "    TEST3_PATH,\n",
    "    target_size=(IMAGE_SIZE, IMAGE_SIZE),\n",
    "    batch_size=BATCH_SIZE,\n",
    "    class_mode='categorical',\n",
    "    shuffle=False\n",
    ")\n",
    "\n",
    "testing_generator4 = testing_datagen.flow_from_directory(\n",
    "    TEST4_PATH,\n",
    "    target_size=(IMAGE_SIZE, IMAGE_SIZE),\n",
    "    batch_size=BATCH_SIZE,\n",
    "    class_mode='categorical',\n",
    "    shuffle=False\n",
    ")\n",
    "\n",
    "testing_generator5 = testing_datagen.flow_from_directory(\n",
    "    TEST5_PATH,\n",
    "    target_size=(IMAGE_SIZE, IMAGE_SIZE),\n",
    "    batch_size=BATCH_SIZE,\n",
    "    class_mode='categorical',\n",
    "    shuffle=False\n",
    ")\n",
    "\n",
    "testing_generator6 = testing_datagen.flow_from_directory(\n",
    "    TEST6_PATH,\n",
    "    target_size=(IMAGE_SIZE, IMAGE_SIZE),\n",
    "    batch_size=BATCH_SIZE,\n",
    "    class_mode='categorical',\n",
    "    shuffle=False\n",
    ")"
   ]
  },
  {
   "cell_type": "code",
   "execution_count": 6,
   "metadata": {},
   "outputs": [
    {
     "name": "stdout",
     "output_type": "stream",
     "text": [
      "2/2 [==============================] - 3s 1s/step\n",
      "2/2 [==============================] - 0s 30ms/step\n",
      "2/2 [==============================] - 0s 23ms/step\n",
      "2/2 [==============================] - 0s 23ms/step\n",
      "2/2 [==============================] - 0s 30ms/step\n",
      "2/2 [==============================] - 0s 19ms/step\n"
     ]
    }
   ],
   "source": [
    "p1 = my_model.predict_generator(\n",
    "    testing_generator1,\n",
    "    verbose=1\n",
    ")\n",
    "p1 = np.argmax(p1, axis=1)\n",
    "p1 = [mode(p1[i: i+5])[0][0] for i in np.arange(0, 45, 5)]\n",
    "\n",
    "p2 = my_model.predict_generator(\n",
    "    testing_generator2,\n",
    "    verbose=1\n",
    ")\n",
    "p2 = np.argmax(p2, axis=1)\n",
    "p2 = [mode(p2[i: i+5])[0][0] for i in np.arange(0, 45, 5)]\n",
    "\n",
    "p3 = my_model.predict_generator(\n",
    "    testing_generator3,\n",
    "    verbose=1\n",
    ")\n",
    "p3 = np.argmax(p3, axis=1)\n",
    "p3 = [mode(p3[i: i+5])[0][0] for i in np.arange(0, 45, 5)]\n",
    "\n",
    "p4 = my_model.predict_generator(\n",
    "    testing_generator4,\n",
    "    verbose=1\n",
    ")\n",
    "p4 = np.argmax(p4, axis=1)\n",
    "p4 = [mode(p4[i: i+5])[0][0] for i in np.arange(0, 45, 5)]\n",
    "\n",
    "p5 = my_model.predict_generator(\n",
    "    testing_generator5,\n",
    "    verbose=1\n",
    ")\n",
    "p5 = np.argmax(p5, axis=1)\n",
    "p5 = [mode(p5[i: i+5])[0][0] for i in np.arange(0, 45, 5)]\n",
    "\n",
    "p6 = my_model.predict_generator(\n",
    "    testing_generator6,\n",
    "    verbose=1\n",
    ")\n",
    "p6 = np.argmax(p6, axis=1)\n",
    "p6 = [mode(p6[i: i+5])[0][0] for i in np.arange(0, 45, 5)]"
   ]
  },
  {
   "cell_type": "code",
   "execution_count": 7,
   "metadata": {},
   "outputs": [],
   "source": [
    "PREDICTED_LABEL = p1+p2+p3+p4+p5+p6"
   ]
  },
  {
   "cell_type": "code",
   "execution_count": 8,
   "metadata": {},
   "outputs": [],
   "source": [
    "class_report = classification_report(TRUE_LABEL, \n",
    "                                     PREDICTED_LABEL)"
   ]
  },
  {
   "cell_type": "code",
   "execution_count": 9,
   "metadata": {},
   "outputs": [
    {
     "name": "stdout",
     "output_type": "stream",
     "text": [
      "              precision    recall  f1-score   support\n",
      "\n",
      "           0       1.00      0.83      0.91         6\n",
      "           1       1.00      1.00      1.00         6\n",
      "           2       1.00      1.00      1.00         6\n",
      "           3       0.86      1.00      0.92         6\n",
      "           4       0.86      1.00      0.92         6\n",
      "           5       1.00      0.83      0.91         6\n",
      "           6       0.75      1.00      0.86         6\n",
      "           7       1.00      1.00      1.00         6\n",
      "           8       1.00      0.67      0.80         6\n",
      "\n",
      "    accuracy                           0.93        54\n",
      "   macro avg       0.94      0.93      0.92        54\n",
      "weighted avg       0.94      0.93      0.92        54\n",
      "\n"
     ]
    }
   ],
   "source": [
    "print(class_report)"
   ]
  }
 ],
 "metadata": {
  "kernelspec": {
   "display_name": "Python 3",
   "language": "python",
   "name": "python3"
  },
  "language_info": {
   "codemirror_mode": {
    "name": "ipython",
    "version": 3
   },
   "file_extension": ".py",
   "mimetype": "text/x-python",
   "name": "python",
   "nbconvert_exporter": "python",
   "pygments_lexer": "ipython3",
   "version": "3.7.5"
  }
 },
 "nbformat": 4,
 "nbformat_minor": 2
}
